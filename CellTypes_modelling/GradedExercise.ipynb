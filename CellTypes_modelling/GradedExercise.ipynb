{
 "cells": [
  {
   "cell_type": "markdown",
   "metadata": {},
   "source": [
    "# Graded exercise: Optimise Parameters of a Neuron Model\n",
    "____\n",
    "\n",
    "### Introduction\n",
    "During the lecture, you have seen how to constrain the parameters of a simple neuron model in order to reproduce the spiking behaviour recorded experimentally. Now we are going to see how to constrain the passive properties (leak current) of the model by using the responses to negative current injections.\n",
    "____\n",
    "\n",
    "### Problem descrition\n",
    "Starting from the Cell Types modelling notebook, you will set-up and run an optimisation following these criteria:\n",
    "\n",
    "* Use the same **experimental data** and **morphology**.\n",
    "* Add the *hh* mechanism in the soma.\n",
    "* Set *gna_par* in the soma as a *free* parameter, use the same bounds as before. \n",
    "* Set **gk_par** in the soma as a **frozen** parameter. For its value, choose the one returned from the optimisation we run previously. \n",
    "* Set **gl_par** in the soma as a **free** parameter, with **bounds [1e-5, 1e-4]**.\n",
    "* Add a new **el_hh** parameter in the soma, it represents the resting membrane potential of the model. It should be a **free** parameter with **bounds [-90, -60]**.\n",
    "* Leave the **cm** parameter unchanged.\n",
    "* Create the cell model as before, but remember to specify the new free parameters.\n",
    "* Define the protocols as before.\n",
    "* To check that everything is set correctly, run a simulation by specifying some initial value for the free parameters. These values should be within bounds.\n",
    "* Extract features from **exp_neg_trace**, by setting up the correct **stim_start** and **stim_end** and extract the features **'steady_state_voltage_stimend'** and **'voltage_base'**.\n",
    "* Create a **feat_means** dictionary: starting from the original dictionary, add *'steady_state_voltage_stimend'* and *'voltage_base'* with the values obtained in the previous step in the **neg_step** subdictionary. Leave *Spikecount* features unmodified. Create *features* and *objectives* list as before.\n",
    "* Remember to change **param_names** when you create the *cell_evaluator*.\n",
    "* Run the optimisation with an **offspring_size** of 10, for 10 **generations**.\n",
    "___\n",
    "Run this optimisation and send us the parameters of the best individual.\n",
    "\n",
    "You will get a full grade for this exercise if all the features have a score <= 3."
   ]
  },
  {
   "cell_type": "markdown",
   "metadata": {},
   "source": [
    "## Solution"
   ]
  },
  {
   "cell_type": "code",
   "execution_count": 1,
   "metadata": {},
   "outputs": [
    {
     "name": "stdout",
     "output_type": "stream",
     "text": [
      "Answer: 0.000000,0.000000,0.000000\n"
     ]
    }
   ],
   "source": [
    "## ... Copy and modify here your code\n",
    "\n",
    "# An example answer\n",
    "best_ind_dict = {'gl_soma': 0.0, 'el_soma': 0.0, 'gna_soma': 0.0}\n",
    "answer = '%f,%f,%f' % (best_ind_dict['gl_soma'], best_ind_dict['el_soma'], best_ind_dict['gna_soma'])\n",
    "print('Answer: %s' % answer)   "
   ]
  },
  {
   "cell_type": "markdown",
   "metadata": {
    "collapsed": true
   },
   "source": [
    "## Submit answer"
   ]
  },
  {
   "cell_type": "code",
   "execution_count": null,
   "metadata": {
    "collapsed": true
   },
   "outputs": [],
   "source": []
  }
 ],
 "metadata": {
  "kernelspec": {
   "display_name": "Python 2",
   "language": "python",
   "name": "python2"
  },
  "language_info": {
   "codemirror_mode": {
    "name": "ipython",
    "version": 2
   },
   "file_extension": ".py",
   "mimetype": "text/x-python",
   "name": "python",
   "nbconvert_exporter": "python",
   "pygments_lexer": "ipython2",
   "version": "2.7.12"
  }
 },
 "nbformat": 4,
 "nbformat_minor": 1
}
