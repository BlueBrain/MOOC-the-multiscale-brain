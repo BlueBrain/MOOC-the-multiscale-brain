{
 "cells": [
  {
   "cell_type": "markdown",
   "metadata": {},
   "source": [
    "# Optimising the parameters of a simple neuron model\n",
    "\n",
    "____________\n",
    "## Introduction\n",
    "\n",
    "Building biologically-realistic models of neurons requires knowing values for many different parameters. When those are not known or hard to measure experimentally, we can use an optimisation library such as [BluePyOpt](https://github.com/BlueBrain/BluePyOpt) to constrain them with experimental data.\n",
    "\n",
    "\n",
    "### Overview:\n",
    "In this tutorial you will learn how to:\n",
    "\n",
    "* Create a **cell model**\n",
    "* Extract **electrical features** using eFEL and set up a **cell evaluator**\n",
    "* Run a **parameter optimization**\n",
    "* **Analyse** the results of an optimisation\n"
   ]
  },
  {
   "cell_type": "markdown",
   "metadata": {},
   "source": [
    "## Load and visualise some electrophysiological data\n",
    "\n",
    "To model the electrical behaviour of neurons we can use electrophysiological data, recorded during a in vitro [patch clamp experiment](https://en.wikipedia.org/wiki/Patch_clamp). In these types of experiments we inject a current in the neuron and record the voltage response of its membrane.\n",
    "\n",
    "We are now going to visualise the response of a neuron to a depolarising (positive) current injection and to a hyperpolarising (negative) current."
   ]
  },
  {
   "cell_type": "code",
   "execution_count": 2,
   "metadata": {},
   "outputs": [
    {
     "data": {
      "image/png": "[encoded data removed]",
      "text/plain": [
       "<Figure size 432x288 with 2 Axes>"
      ]
     },
     "metadata": {
      "needs_background": "light"
     },
     "output_type": "display_data"
    }
   ],
   "source": [
    "# Download some experimental data and save to file\n",
    "import numpy\n",
    "from urllib.request import urlopen\n",
    "import matplotlib.pyplot as plt\n",
    "%matplotlib inline\n",
    "\n",
    "fig, ax = plt.subplots(2, sharey = True)\n",
    "\n",
    "for i, filename in enumerate({'dep_trace.txt', 'hyp_trace.txt'}):\n",
    "    response = urlopen('https://bbpteam.epfl.ch/test/public/mooc-hbp/{}'.format(filename))\n",
    "    data = response.read()\n",
    "    with open(filename, \"wb\") as f:\n",
    "        f.write(data)\n",
    "        \n",
    "    trace = numpy.loadtxt(filename)    \n",
    "    ax[i].plot(trace[:,0], trace[:,1], color = 'k')\n",
    "    ax[i].set_ylabel('Voltage (mV)')\n",
    "    ax[i].set_xlabel('Time (ms)')"
   ]
  },
  {
   "cell_type": "markdown",
   "metadata": {},
   "source": [
    "We can also create two variables pointing to the experimental recordings for later use. As you can see, each trace is a 2D-array, with the first column representing the time points and the second column the voltage."
   ]
  },
  {
   "cell_type": "code",
   "execution_count": 3,
   "metadata": {},
   "outputs": [
    {
     "name": "stdout",
     "output_type": "stream",
     "text": [
      "[[ 0.00000000e+00 -6.50644052e+01]\n",
      " [ 3.65780296e-02 -6.45500889e+01]\n",
      " [ 7.31560593e-02 -6.58116431e+01]\n",
      " ...\n",
      " [ 6.62454270e+02 -6.80285806e+01]\n",
      " [ 6.85217951e+02 -6.77730746e+01]\n",
      " [ 7.00000000e+02 -6.74465859e+01]]\n"
     ]
    }
   ],
   "source": [
    "exp_pos_trace = numpy.loadtxt(\"dep_trace.txt\")\n",
    "exp_neg_trace = numpy.loadtxt(\"hyp_trace.txt\")\n",
    "print(exp_pos_trace)"
   ]
  },
  {
   "cell_type": "markdown",
   "metadata": {},
   "source": [
    "## Define the cell model\n",
    "\n",
    "In this first part, we will define the model **template**. It consists of:\n",
    "* The neuron **morphology** (the shape of the cell). It can be farly complicated, but in this example we are approximating it with a single compartment representing the soma of the cell.\n",
    "* The **ion channel** models (or mechanisms): they contain the equations describing the electrical properties of the cell. \n",
    "* The **model parameters**.\n",
    "\n",
    "BluePyOpt contains a module to create biophysically-detailed neuron models. Let's import it."
   ]
  },
  {
   "cell_type": "code",
   "execution_count": 4,
   "metadata": {},
   "outputs": [],
   "source": [
    "import bluepyopt as bpopt\n",
    "import bluepyopt.ephys as ephys"
   ]
  },
  {
   "cell_type": "code",
   "execution_count": 5,
   "metadata": {},
   "outputs": [
    {
     "name": "stdout",
     "output_type": "stream",
     "text": [
      "Collecting neurom\n",
      "  Downloading neurom-2.3.1.tar.gz (3.2 MB)\n",
      "\u001b[K     |████████████████████████████████| 3.2 MB 902 kB/s eta 0:00:01\n",
      "\u001b[?25h  Installing build dependencies ... \u001b[?25ldone\n",
      "\u001b[?25h  Getting requirements to build wheel ... \u001b[?25ldone\n",
      "\u001b[?25h  Installing backend dependencies ... \u001b[?25ldone\n",
      "\u001b[?25h    Preparing wheel metadata ... \u001b[?25ldone\n",
      "\u001b[?25hCollecting pyyaml>=3.10\n",
      "  Downloading PyYAML-5.4.1-cp38-cp38-macosx_10_9_x86_64.whl (253 kB)\n",
      "\u001b[K     |████████████████████████████████| 253 kB 1.6 MB/s eta 0:00:01\n",
      "\u001b[?25hRequirement already satisfied: numpy>=1.8.0 in /Users/iavarone/pythonenvs/venv3p8/lib/python3.8/site-packages (from neurom) (1.21.1)\n",
      "Requirement already satisfied: matplotlib>=3.2.1 in /Users/iavarone/pythonenvs/venv3p8/lib/python3.8/site-packages (from neurom) (3.4.3)\n",
      "Collecting click>=7.0\n",
      "  Downloading click-8.0.1-py3-none-any.whl (97 kB)\n",
      "\u001b[K     |████████████████████████████████| 97 kB 1.5 MB/s eta 0:00:01\n",
      "\u001b[?25hRequirement already satisfied: pandas>=1.0.5 in /Users/iavarone/pythonenvs/venv3p8/lib/python3.8/site-packages (from neurom) (1.3.1)\n",
      "Collecting tqdm>=4.8.4\n",
      "  Downloading tqdm-4.62.0-py2.py3-none-any.whl (76 kB)\n",
      "\u001b[K     |████████████████████████████████| 76 kB 1.4 MB/s eta 0:00:01\n",
      "\u001b[?25hCollecting morphio>=3.1.1\n",
      "  Downloading MorphIO-3.3.0-cp38-cp38-macosx_10_13_x86_64.whl (1.9 MB)\n",
      "\u001b[K     |████████████████████████████████| 1.9 MB 1.7 MB/s eta 0:00:01\n",
      "\u001b[?25hCollecting scipy>=1.2.0\n",
      "  Downloading scipy-1.7.1-cp38-cp38-macosx_10_9_x86_64.whl (32.6 MB)\n",
      "\u001b[K     |████████████████████████████████| 32.6 MB 810 kB/s eta 0:00:01     |████████████                    | 12.3 MB 613 kB/s eta 0:00:34\n",
      "\u001b[?25hRequirement already satisfied: kiwisolver>=1.0.1 in /Users/iavarone/pythonenvs/venv3p8/lib/python3.8/site-packages (from matplotlib>=3.2.1->neurom) (1.3.1)\n",
      "Requirement already satisfied: pyparsing>=2.2.1 in /Users/iavarone/pythonenvs/venv3p8/lib/python3.8/site-packages (from matplotlib>=3.2.1->neurom) (2.4.7)\n",
      "Requirement already satisfied: pillow>=6.2.0 in /Users/iavarone/pythonenvs/venv3p8/lib/python3.8/site-packages (from matplotlib>=3.2.1->neurom) (8.3.1)\n",
      "Requirement already satisfied: cycler>=0.10 in /Users/iavarone/pythonenvs/venv3p8/lib/python3.8/site-packages (from matplotlib>=3.2.1->neurom) (0.10.0)\n",
      "Requirement already satisfied: python-dateutil>=2.7 in /Users/iavarone/pythonenvs/venv3p8/lib/python3.8/site-packages (from matplotlib>=3.2.1->neurom) (2.8.2)\n",
      "Requirement already satisfied: six in /Users/iavarone/pythonenvs/venv3p8/lib/python3.8/site-packages (from cycler>=0.10->matplotlib>=3.2.1->neurom) (1.16.0)\n",
      "Requirement already satisfied: pytz>=2017.3 in /Users/iavarone/pythonenvs/venv3p8/lib/python3.8/site-packages (from pandas>=1.0.5->neurom) (2021.1)\n",
      "Building wheels for collected packages: neurom\n",
      "  Building wheel for neurom (PEP 517) ... \u001b[?25ldone\n",
      "\u001b[?25h  Created wheel for neurom: filename=neurom-2.3.1-py3-none-any.whl size=97197 sha256=93e2ed7b55a3be9a4f2c3f0847423f5ebae2c575b550f0da3afb49bee46cbfdb\n",
      "  Stored in directory: /Users/iavarone/Library/Caches/pip/wheels/25/6c/85/0a270b41e54be60a420b3c21e285d70e5f59315bf86dcc75a1\n",
      "Successfully built neurom\n",
      "Installing collected packages: tqdm, scipy, pyyaml, morphio, click, neurom\n",
      "Successfully installed click-8.0.1 morphio-3.3.0 neurom-2.3.1 pyyaml-5.4.1 scipy-1.7.1 tqdm-4.62.0\n",
      "Note: you may need to restart the kernel to use updated packages.\n"
     ]
    }
   ],
   "source": [
    "pip install neurom"
   ]
  },
  {
   "cell_type": "markdown",
   "metadata": {},
   "source": [
    "### Load a morphology"
   ]
  },
  {
   "cell_type": "markdown",
   "metadata": {},
   "source": [
    "Reconstruction of neuron morphologies can be stored in different file formats ([.swc](http://www.neuronland.org/NLMorphologyConverter/MorphologyFormats/SWC/Spec.html), .asc). We're now going to load a .swc morphology and visualise it by using the Neuronal Morphology Analysis Tool [NeuroM](https://github.com/BlueBrain/NeuroM). In this example the morphology represents a soma with a radius of 5 micron."
   ]
  },
  {
   "cell_type": "code",
   "execution_count": 6,
   "metadata": {},
   "outputs": [
    {
     "data": {
      "image/png": "[encoded data removed]",
      "text/plain": [
       "<Figure size 432x288 with 1 Axes>"
      ]
     },
     "metadata": {
      "needs_background": "light"
     },
     "output_type": "display_data"
    }
   ],
   "source": [
    "import neurom\n",
    "import neurom.viewer\n",
    "\n",
    "# Get the morpholoy file\n",
    "response = urlopen('https://bbpteam.epfl.ch/test/public/mooc-hbp/simple.swc')\n",
    "data = response.read()\n",
    "\n",
    "# Save the morphology file   \n",
    "with open(\"simple.swc\", \"wb\") as f:\n",
    "    f.write(data)\n",
    "    \n",
    "# Visualise the morphology\n",
    "fig, ax = neurom.viewer.draw(neurom.load_neuron('simple.swc'))\n",
    "\n",
    "# Load the morphology in BluePyOpt\n",
    "morph = ephys.morphologies.NrnFileMorphology('simple.swc')\n"
   ]
  },
  {
   "cell_type": "markdown",
   "metadata": {},
   "source": [
    "### Add ion channels\n",
    "\n",
    "In this example we will use the [**Hodgkin-Huxley** (HH) model](https://en.wikipedia.org/wiki/Hodgkin–Huxley_model) to insert sodium (Na), potassium (K) and leak ionic currents in the cell soma. \n",
    "\n",
    "We will use the built-in HH mechanism of the [NEURON](https://www.neuron.yale.edu/neuron/) simulator. NEURON can be easily extended with other mechanisms (.mod files) by using the [NMODL](https://www.neuron.yale.edu/neuron/static/new_doc/modelspec/programmatic/mechanisms/nmodl.html) language. In this way we can model other types of ion channels, synapses, extracellular mechanisms... \n",
    "\n",
    "To insert a NEURON mechanim into BluePyOpt we need to assign it a **name**, specify the **suffix** pointing to the same field in the .mod file and in which **locations** of the morphology we want to insert it."
   ]
  },
  {
   "cell_type": "code",
   "execution_count": 5,
   "metadata": {
    "collapsed": true
   },
   "outputs": [],
   "source": [
    "# Create a section object pointing to the soma\n",
    "somatic_loc = ephys.locations.NrnSeclistLocation('somatic', seclist_name='somatic')\n",
    "\n",
    "# Insert the HH mechanism in the soma\n",
    "hh_mech = ephys.mechanisms.NrnMODMechanism(                                         \n",
    "        name='hh',                                                                  \n",
    "        suffix='hh',                                                                \n",
    "        locations=[somatic_loc])"
   ]
  },
  {
   "cell_type": "markdown",
   "metadata": {},
   "source": [
    "### Specify the parameters\n",
    "We can now specify the parameters of our model. Parameters can be distinguished in two types: **frozen** parameters (i.e. they have an exact value and they are not going to be searched by the optimisation algorithm), **free** parameters (i.e. they have initial bounds for their value and they are going to be searched). \n",
    "\n",
    "In a typical biophysically-detailed model the free parameters can be the **maximal conductances** of the ionic currents ($\\overline{g}_{ion}$). These parameters are part of the HH equations governing the membrane potential of our neuron soma:\n",
    "\n",
    "$$C_{m}\\frac{dV}{dt} = I_{l} + I_{Na} + I_{K} $$\n",
    "\n",
    "$$C_{m}\\frac{dV}{dt} = \\overline{g}_{l}(V-E_{l}) + \\overline{g}_{Na}m^{3}h(V-E_{Na}) + \\overline{g}_{K}n^{4}(V-E_{K}) $$\n",
    "\n",
    "We are now going to set the sodium (*gna_par*) and potassium (*gk_par*) conductance as free parameters and the leak conductance (*gl_par*) and the membrane capacitance (*Cm*) as frozen."
   ]
  },
  {
   "cell_type": "code",
   "execution_count": 6,
   "metadata": {
    "collapsed": true
   },
   "outputs": [],
   "source": [
    "# Sodium conductance\n",
    "gna_par = ephys.parameters.NrnSectionParameter(                                    \n",
    "        name='gna_soma',\n",
    "        param_name='gnabar_hh',\n",
    "        locations=[somatic_loc],\n",
    "        bounds=[0, 1], # S/cm^2\n",
    "        frozen=False) \n",
    "\n",
    "# Potassium conductance\n",
    "gk_par = ephys.parameters.NrnSectionParameter(\n",
    "        name='gk_soma',\n",
    "        param_name='gkbar_hh',\n",
    "        bounds=[0, 1], # S/cm^2\n",
    "        locations=[somatic_loc],\n",
    "        frozen=False)\n",
    "\n",
    "# Leak conductance\n",
    "gl_par = ephys.parameters.NrnSectionParameter(\n",
    "        name='gl_soma',\n",
    "        param_name='gl_hh',\n",
    "        value=0.0003, # S/cm^2\n",
    "        locations=[somatic_loc],\n",
    "        frozen=True)\n",
    "\n",
    "# Membrane capacitance\n",
    "cm = ephys.parameters.NrnSectionParameter(\n",
    "        name='cm',\n",
    "        param_name='cm',\n",
    "        value=1.0, # in microfarad/cm2\n",
    "        locations=[somatic_loc],\n",
    "        frozen=True)"
   ]
  },
  {
   "cell_type": "markdown",
   "metadata": {},
   "source": [
    "### Create the cell model\n",
    "We can now create the cell model, by combining the morphology, the mechanisms and the parameters."
   ]
  },
  {
   "cell_type": "code",
   "execution_count": 7,
   "metadata": {
    "collapsed": true
   },
   "outputs": [],
   "source": [
    "simple_cell = ephys.models.CellModel(\n",
    "        name='simple_cell',\n",
    "        morph=morph,\n",
    "        mechs=[hh_mech],\n",
    "        params=[gna_par, gk_par, gl_par, cm])"
   ]
  },
  {
   "cell_type": "markdown",
   "metadata": {},
   "source": [
    "We can print a descrition of the neuron."
   ]
  },
  {
   "cell_type": "code",
   "execution_count": 8,
   "metadata": {},
   "outputs": [
    {
     "name": "stdout",
     "output_type": "stream",
     "text": [
      "simple_cell:\n",
      "  morphology:\n",
      "    simple.swc\n",
      "  mechanisms:\n",
      "    hh: hh at ['somatic']\n",
      "  params:\n",
      "    gna_soma: ['somatic'] gnabar_hh = [0, 1]\n",
      "    gk_soma: ['somatic'] gkbar_hh = [0, 1]\n",
      "    gl_soma: ['somatic'] gl_hh = 0.0003\n",
      "    cm: ['somatic'] cm = 1.0\n",
      "\n"
     ]
    }
   ],
   "source": [
    "print(simple_cell)"
   ]
  },
  {
   "cell_type": "markdown",
   "metadata": {},
   "source": [
    "## Set-up a cell evaluator\n",
    "\n",
    "A cell **evaluator** is an object that maps the model parameters into fitness scores, which measure how well our model approximates the experimental data.\n",
    "To define a cell evaluator we need:\n",
    "* current **protocols** to stimulate the cell \n",
    "* a **simulation** to record the voltage **response**\n",
    "* **eFeatures** and **objectives**: they are extracted from the responses and used to score our model, by comparing it with the experimental data.\n",
    "\n",
    "### Define protocols\n",
    "\n",
    "Protocols consist of a sequence of stimuli and the associated responses. \n",
    "\n",
    "We first need to create a location to inject the stimuli, for example the center of the soma."
   ]
  },
  {
   "cell_type": "code",
   "execution_count": 9,
   "metadata": {
    "collapsed": true
   },
   "outputs": [],
   "source": [
    "soma_loc = ephys.locations.NrnSeclistCompLocation(\n",
    "        name='soma',\n",
    "        seclist_name='somatic',\n",
    "        sec_index=0,\n",
    "        comp_x=0.5)"
   ]
  },
  {
   "cell_type": "markdown",
   "metadata": {},
   "source": [
    "Then we can define the stimuli, recordings and combine them in the protocol (a BluePyOpt [SequenceProtocol](https://github.com/BlueBrain/BluePyOpt/blob/master/bluepyopt/ephys/protocols.py#L48) object). We are going to create two stimuli (a negative and a positive current step) and record the responses. For each stimulus we specify the amplitude (in nA), the starting time (step_delay), its duration and the total duration of the simulation in ms. "
   ]
  },
  {
   "cell_type": "code",
   "execution_count": 10,
   "metadata": {
    "collapsed": true
   },
   "outputs": [],
   "source": [
    "sweep_protocols = []\n",
    "\n",
    "for protocol_name, amp, dur in [('neg_step', -0.01, 3000), ('pos_step', 0.015, 200)]:\n",
    "    \n",
    "    stim = ephys.stimuli.NrnSquarePulse(\n",
    "                step_amplitude=amp,\n",
    "                step_delay=250,\n",
    "                step_duration=dur,\n",
    "                location=soma_loc,\n",
    "                total_duration=500+dur)\n",
    "    \n",
    "    rec = ephys.recordings.CompRecording(\n",
    "            name='%s.soma.v' % protocol_name,\n",
    "            location=soma_loc,\n",
    "            variable='v')\n",
    "    \n",
    "    protocol = ephys.protocols.SweepProtocol(protocol_name, [stim], [rec])\n",
    "    sweep_protocols.append(protocol)\n",
    "\n",
    "twostep_protocol = ephys.protocols.SequenceProtocol('twostep', protocols=sweep_protocols)"
   ]
  },
  {
   "cell_type": "markdown",
   "metadata": {},
   "source": [
    "### Running a simulation, record and plot the responses\n",
    "\n",
    "We can now run a simulation on our cell model. We just need to instantiate the simulator (an abstraction of the NEURON simulator). To run the simulation, we can use the run() function of the protocol we have just created. The run function takes as arguments a cell model, values for the free parameters and a simulator."
   ]
  },
  {
   "cell_type": "code",
   "execution_count": 11,
   "metadata": {
    "collapsed": true
   },
   "outputs": [],
   "source": [
    "# Instantiate the simulator\n",
    "nrn = ephys.simulators.NrnSimulator()\n",
    "\n",
    "# Set values for the free parameters (they have to be within bounds)\n",
    "default_params = {'gna_soma': 0.07, 'gk_soma': 0.03}\n",
    "\n",
    "# Run the simulation\n",
    "responses = twostep_protocol.run(cell_model=simple_cell, param_values=default_params, sim=nrn)\n"
   ]
  },
  {
   "cell_type": "markdown",
   "metadata": {},
   "source": [
    "We can plot the model responses side by side with the experimental recordings."
   ]
  },
  {
   "cell_type": "code",
   "execution_count": 12,
   "metadata": {},
   "outputs": [
    {
     "data": {
      "image/png": "[encoded data removed]",
      "text/plain": [
       "<matplotlib.figure.Figure at 0x7f373c16be10>"
      ]
     },
     "metadata": {},
     "output_type": "display_data"
    }
   ],
   "source": [
    "def plot_responses(responses):\n",
    "    fig1, ax = plt.subplots(len(responses), 2, sharey = True, sharex = 'row')\n",
    "    \n",
    "    ax[0,0].plot(exp_neg_trace[:, 0], exp_neg_trace[:,1], color = 'k')            \n",
    "    ax[0,1].plot(responses['neg_step.soma.v']['time'], responses['neg_step.soma.v']['voltage'])\n",
    "    ax[0,0].set_title(\"Experiment\")\n",
    "    ax[0,1].set_title(\"Model\")\n",
    "    ax[1,0].plot(exp_pos_trace[:, 0], exp_pos_trace[:,1], color = 'k')            \n",
    "    ax[1,1].plot(responses['pos_step.soma.v']['time'], responses['pos_step.soma.v']['voltage'])\n",
    "\n",
    "    \n",
    "    fig1.tight_layout()\n",
    "\n",
    "plot_responses(responses)"
   ]
  },
  {
   "cell_type": "markdown",
   "metadata": {},
   "source": [
    "If we change the model parameters, for example big making the sodium conductance bigger, the model behaves differently."
   ]
  },
  {
   "cell_type": "code",
   "execution_count": 13,
   "metadata": {},
   "outputs": [
    {
     "data": {
      "image/png": "[encoded data removed]",
      "text/plain": [
       "<matplotlib.figure.Figure at 0x7f3729335310>"
      ]
     },
     "metadata": {},
     "output_type": "display_data"
    }
   ],
   "source": [
    "# Set values for the free parameters\n",
    "default_params = {'gna_soma': 0.15, 'gk_soma': 0.03}\n",
    "\n",
    "# Run the simulation\n",
    "responses = twostep_protocol.run(cell_model=simple_cell, param_values=default_params, sim=nrn)\n",
    "\n",
    "# Run the simulation and plot the responses\n",
    "plot_responses(responses)"
   ]
  },
  {
   "cell_type": "markdown",
   "metadata": {},
   "source": [
    "We can observe that after changing the parameters our model starts to approximate the number of spikes in response to the positive current injection, but we also obtained an undesired spike at the end of the negative injection."
   ]
  },
  {
   "cell_type": "markdown",
   "metadata": {},
   "source": [
    "### Define eFeatures and objectives"
   ]
  },
  {
   "cell_type": "markdown",
   "metadata": {},
   "source": [
    "We can now use the experimental data to constrain the model parameters. For example we can use number of spikes in the response to the two steps as the optimisation targets.\n",
    "\n",
    "We can use the eFeature Extraction Library ([eFEL](https://github.com/BlueBrain/eFEL)) to extract some electrical features (eFeatures) from experimental and model traces. eFeatures are metrics that define for instance the shape of the action potential or the passive properties of a neuron (for examples, see [here](http://bluebrain.github.io/eFEL/eFeatures.html)).\n",
    "\n",
    "We can now extract the number of spikes from one of the experimental recordings. To extract features with eFEL we need to define the traces we want to analyse as Python dictionaries, containing the time array **T**, the voltage **V**, the **stimulus start** and **end time** (they have to be Python lists) and the **name of the features** we want to extract."
   ]
  },
  {
   "cell_type": "code",
   "execution_count": 14,
   "metadata": {},
   "outputs": [
    {
     "name": "stdout",
     "output_type": "stream",
     "text": [
      "Number of spikes in the experimental trace: [10]\n"
     ]
    }
   ],
   "source": [
    "import efel\n",
    "\n",
    "# Get the time and voltage array from the experimental data\n",
    "time = exp_pos_trace[:,0]\n",
    "voltage = exp_pos_trace[:,1]\n",
    "\n",
    "# Define the trace dictionary for efel\n",
    "trace = {'T': time, 'V': voltage, 'stim_start': [250], 'stim_end': [450]}\n",
    "\n",
    "# Extract features\n",
    "feature_values = efel.getFeatureValues([trace], ['Spikecount'])[0]\n",
    "\n",
    "print 'Number of spikes in the experimental trace: %s' % feature_values['Spikecount']"
   ]
  },
  {
   "cell_type": "markdown",
   "metadata": {},
   "source": [
    "We can now use these experimental eFeatures to calculate the fitness of our model. Each eFeature (or a combination of them) can be set as an optimisation target.\n",
    "\n",
    "In the code below we associate an eFeature to each voltage response and create the eFELFeature and Objective objects.\n",
    "\n",
    "The eFELFeture ojects takes as arguments the name of the feature in the eFEL, the name of the recordings containg the traces to evaluate, the start and end time of the stimulus and the experimental **feature mean** and **standard deviation** (std). \n",
    "In this example we use the feature means extracted from the experimental traces (and stored in the *feat_means* dictionary) and *0.05abs(mean)* as standard deviation."
   ]
  },
  {
   "cell_type": "code",
   "execution_count": 15,
   "metadata": {
    "collapsed": true
   },
   "outputs": [],
   "source": [
    "feat_means = {'neg_step': {'Spikecount': 0}, 'pos_step': {'Spikecount': 10}}\n",
    "\n",
    "features = []\n",
    "objectives = []\n",
    "\n",
    "for protocol in sweep_protocols:   \n",
    "    stim_start = protocol.stimuli[0].step_delay\n",
    "    stim_end = stim_start + protocol.stimuli[0].step_duration\n",
    "\n",
    "    for efel_feature_name, mean in feat_means[protocol.name].items():\n",
    "        feature_name = '%s.%s' % (protocol.name, efel_feature_name)\n",
    "        \n",
    "        feature = ephys.efeatures.eFELFeature(\n",
    "                    feature_name,\n",
    "                    efel_feature_name=efel_feature_name,\n",
    "                    recording_names={'': '%s.soma.v' % protocol.name},\n",
    "                    stim_start=stim_start,\n",
    "                    stim_end=stim_end,\n",
    "                    exp_mean=mean,\n",
    "                    exp_std=0.05 * abs(mean) if mean != 0 else 1)\n",
    "        \n",
    "        features.append(feature)\n",
    "        objective = ephys.objectives.SingletonObjective(\n",
    "            feature_name,\n",
    "            feature)\n",
    "        objectives.append(objective)\n"
   ]
  },
  {
   "cell_type": "markdown",
   "metadata": {},
   "source": [
    "Now that we have defined the objectives, we need to use them to score the model responses by creating a score (or fitness) calculator object."
   ]
  },
  {
   "cell_type": "code",
   "execution_count": 16,
   "metadata": {
    "collapsed": true
   },
   "outputs": [],
   "source": [
    "score_calc = ephys.objectivescalculators.ObjectivesCalculator(objectives)"
   ]
  },
  {
   "cell_type": "markdown",
   "metadata": {},
   "source": [
    "We can now define our cell evaluator by combining the cell model, the protocol and the score calculator. We also need to specify a ordered list of the names of the free parameters."
   ]
  },
  {
   "cell_type": "code",
   "execution_count": 17,
   "metadata": {
    "collapsed": true
   },
   "outputs": [],
   "source": [
    "cell_evaluator = ephys.evaluators.CellEvaluator(\n",
    "        cell_model = simple_cell,\n",
    "        param_names = ['gna_soma', 'gk_soma'],\n",
    "        fitness_protocols = {twostep_protocol.name: twostep_protocol},\n",
    "        fitness_calculator = score_calc,\n",
    "        sim = nrn)"
   ]
  },
  {
   "cell_type": "markdown",
   "metadata": {},
   "source": [
    "Now we can ask the evaluator to calculate the scores for a set of parameters. (The lower the score the better the model).\n",
    "The score for each feature is calculated according to the formula:\n",
    "\n",
    "$$ score_{feat} = \\frac{|mean_{exp}-feat_{model}|}{std_{exp}}$$\n",
    "\n",
    "We can now the default_params set. From the responses above, we see that there is a spike during the negative stimulus. In response to the positive stimulus, our model fires more than 10 spikes. Thus, none of the two scores will be perfect (= 0)."
   ]
  },
  {
   "cell_type": "code",
   "execution_count": 18,
   "metadata": {},
   "outputs": [
    {
     "name": "stdout",
     "output_type": "stream",
     "text": [
      "Scores:\n",
      "{'pos_step.Spikecount': 8.0, 'neg_step.Spikecount': 1.0}\n"
     ]
    }
   ],
   "source": [
    "objectives = cell_evaluator.evaluate_with_dicts(default_params)\n",
    "print \"Scores:\"\n",
    "print objectives"
   ]
  },
  {
   "cell_type": "markdown",
   "metadata": {},
   "source": [
    "We can also plot scores as error bars."
   ]
  },
  {
   "cell_type": "code",
   "execution_count": 19,
   "metadata": {},
   "outputs": [
    {
     "data": {
      "image/png": "[encoded data removed]",
      "text/plain": [
       "<matplotlib.figure.Figure at 0x7f372893ebd0>"
      ]
     },
     "metadata": {},
     "output_type": "display_data"
    }
   ],
   "source": [
    "def plot_objectives(objectives):\n",
    "    ytick_pos = [x + 0.5 for x in range(len(objectives))]\n",
    "    obj_val = objectives.values()\n",
    "    obj_keys = objectives.keys()\n",
    "    fig, ax = plt.subplots(figsize = (6,2.5))\n",
    "    ax.barh(ytick_pos,\n",
    "              obj_val,\n",
    "              height=0.5,\n",
    "              align='center',\n",
    "              color='blue',\n",
    "              alpha=0.5)\n",
    "    ax.axvline(3, color = \"gray\", ls = \"--\")\n",
    "    ax.set_yticks(ytick_pos)\n",
    "    ax.set_ylabel(\"Score name\")\n",
    "    ax.set_xlabel(\"Score value (# STD)\")\n",
    "    ax.set_yticklabels(obj_keys)\n",
    "    fig.tight_layout()\n",
    "plot_objectives(objectives)  "
   ]
  },
  {
   "cell_type": "markdown",
   "metadata": {},
   "source": [
    "# Set up and run an optimisation\n",
    "\n",
    "As we have seen above, finding parameter values that match the experimental features may not be trivial.\n",
    "Let's now use the BluePyOpt parameter optimisation algorithm to find a set of parameter values that generates a perfect score of 0 on the 'pos_step' trace.\n",
    "\n",
    "BluePyOpt uses an [evolutionary algorithm](https://en.wikipedia.org/wiki/Evolutionary_algorithm) to generate parameter sets (or individual) with increasing fitness. At each iteration (generation) a set of parents from the previous generation is selected to generate an offspring. \n",
    "\n",
    "Let us specify that we want to have an offspring size of 15 **individuals**. This means every population will have 30 individuals (15 parents, 15 offspring)."
   ]
  },
  {
   "cell_type": "code",
   "execution_count": 20,
   "metadata": {
    "collapsed": true
   },
   "outputs": [],
   "source": [
    "optimisation = bpopt.deapext.optimisations.IBEADEAPOptimisation(                              \n",
    "        evaluator=cell_evaluator,                                                \n",
    "        offspring_size = 10)    "
   ]
  },
  {
   "cell_type": "markdown",
   "metadata": {},
   "source": [
    "Now the optimisation algorithm can be run for a certain **number of generations**.\n",
    "\n",
    "**Executing the next cell will take some time (a couple of minutes). There will be a ['*'] shown next to line while it is running.**"
   ]
  },
  {
   "cell_type": "code",
   "execution_count": 21,
   "metadata": {
    "collapsed": true,
    "scrolled": true
   },
   "outputs": [],
   "source": [
    "final_pop, hall_of_fame, logs, hist = optimisation.run(max_ngen=13)"
   ]
  },
  {
   "cell_type": "markdown",
   "metadata": {},
   "source": [
    "## Optimisation results"
   ]
  },
  {
   "cell_type": "markdown",
   "metadata": {},
   "source": [
    "The optimisation has return us 4 objects: final population of parameter sets, hall of fame (the ten best individuals), statistical logs and history.\n",
    "\n",
    "After running an optimisation, we can inspect the hall of fame and other individuals from the history. In our case it contains values for the parameter *gna_soma* and *gk_soma*."
   ]
  },
  {
   "cell_type": "code",
   "execution_count": 22,
   "metadata": {},
   "outputs": [
    {
     "data": {
      "image/png": "[encoded data removed]",
      "text/plain": [
       "<matplotlib.figure.Figure at 0x7f37285cfe90>"
      ]
     },
     "metadata": {},
     "output_type": "display_data"
    }
   ],
   "source": [
    "fig, axs = plt.subplots(1,2, figsize = (5,4))\n",
    "      \n",
    "ax0 = axs[0].twinx()\n",
    "ax0.set_ylabel(\"gk_soma (S/cm$^2$)\")\n",
    "for param_set in hall_of_fame:\n",
    "    axs[0].plot(0, param_set[0], \"o\") \n",
    "    axs[0].set_ylabel(\"gna_soma (S/cm$^2$)\")\n",
    "    ax0.plot(1, param_set[1], \"o\")\n",
    "    axs[0].set_title(\"Best individuals\")\n",
    "\n",
    "ax1 = axs[1].twinx()\n",
    "axs[1].set_ylabel(\"gna_soma (S/cm$^2$)\")\n",
    "ax1.set_ylabel(\"gk_soma (S/cm$^2$)\")\n",
    "for param_set in hist.genealogy_history.values()[:100]:\n",
    "        axs[1].plot(0,param_set[0], \"o\", color = \"gray\")\n",
    "        ax1.plot(1,param_set[1], \"o\", color = \"gray\")\n",
    "        axs[1].set_title(\"Other individuals\")\n",
    "      \n",
    "for ax in axs:\n",
    "    ax.set_xlim([-1,2])\n",
    "    ax.set_xticks([])\n",
    "    \n",
    "    \n",
    "fig.tight_layout()"
   ]
  },
  {
   "cell_type": "markdown",
   "metadata": {},
   "source": [
    "The best individual found during the optimisation is the first individual of the hall of fame."
   ]
  },
  {
   "cell_type": "code",
   "execution_count": 23,
   "metadata": {},
   "outputs": [
    {
     "name": "stdout",
     "output_type": "stream",
     "text": [
      "Best individual: [0.6602825410351997, 0.14772567867601205] \n"
     ]
    }
   ],
   "source": [
    "best_ind = hall_of_fame[0]\n",
    "\n",
    "print 'Best individual: {} '.format(best_ind)"
   ]
  },
  {
   "cell_type": "markdown",
   "metadata": {},
   "source": [
    "We can make use of a convenience function of the cell evaluator to return us a dictionary of parameters."
   ]
  },
  {
   "cell_type": "code",
   "execution_count": 24,
   "metadata": {},
   "outputs": [
    {
     "name": "stdout",
     "output_type": "stream",
     "text": [
      "{'gk_soma': 0.14772567867601205, 'gna_soma': 0.6602825410351997}\n"
     ]
    }
   ],
   "source": [
    "best_ind_dict = cell_evaluator.param_dict(best_ind)\n",
    "print best_ind_dict"
   ]
  },
  {
   "cell_type": "markdown",
   "metadata": {},
   "source": [
    "We can now use this dictionary of parameters to run a simulation and give scores to the model, as we did previously."
   ]
  },
  {
   "cell_type": "code",
   "execution_count": 25,
   "metadata": {},
   "outputs": [
    {
     "name": "stdout",
     "output_type": "stream",
     "text": [
      "Score:  {'pos_step.Spikecount': 0.0, 'neg_step.Spikecount': 1.0}\n"
     ]
    },
    {
     "data": {
      "image/png": "[encoded data removed]",
      "text/plain": [
       "<matplotlib.figure.Figure at 0x7f37289cb790>"
      ]
     },
     "metadata": {},
     "output_type": "display_data"
    },
    {
     "data": {
      "image/png": "[encoded data removed]",
      "text/plain": [
       "<matplotlib.figure.Figure at 0x7f370eae4250>"
      ]
     },
     "metadata": {},
     "output_type": "display_data"
    }
   ],
   "source": [
    "responses = twostep_protocol.run(cell_model=simple_cell, param_values=best_ind_dict, sim=nrn)\n",
    "plot_responses(responses)\n",
    "\n",
    "objectives = score_calc.calculate_scores(responses)\n",
    "print \"Score: \", objectives\n",
    "\n",
    "plot_objectives(objectives)"
   ]
  },
  {
   "cell_type": "markdown",
   "metadata": {},
   "source": [
    "\n",
    "Let's have a look at the optimisation algorithm statistics. We can plot the minimal score (sum of all the scores) found in every generation."
   ]
  },
  {
   "cell_type": "code",
   "execution_count": 26,
   "metadata": {},
   "outputs": [
    {
     "data": {
      "image/png": "[encoded data removed]",
      "text/plain": [
       "<matplotlib.figure.Figure at 0x7f37283a9810>"
      ]
     },
     "metadata": {},
     "output_type": "display_data"
    }
   ],
   "source": [
    "gen_numbers = logs.select('gen')\n",
    "min_fitness = logs.select('min')\n",
    "max_fitness = logs.select('max')\n",
    "\n",
    "plt.plot(gen_numbers, min_fitness, label='min fitness', color = 'k')\n",
    "plt.xlabel('generation #')\n",
    "plt.ylabel('score (# std)')\n",
    "plt.legend()\n",
    "plt.xlim(min(gen_numbers) - 1, max(gen_numbers) + 1) \n",
    "plt.ylim(0.9*min(min_fitness), 1.1 * max(min_fitness));"
   ]
  },
  {
   "cell_type": "markdown",
   "metadata": {
    "collapsed": true
   },
   "source": [
    "We can observe a progressive convergence of the model scores towards smaller values. This means that the model features approximating the experimental ones."
   ]
  },
  {
   "cell_type": "markdown",
   "metadata": {},
   "source": [
    "## Practise exercises"
   ]
  },
  {
   "cell_type": "markdown",
   "metadata": {},
   "source": [
    "### Exercise 1: modify the model parameters\n",
    "\n",
    "* Convert the sodium and potassium conductance from free to frozen parameters and assign them a value of 0.15 and 0.03, respectively\n",
    "* Convert the leak conductance from frozen to free parameter and assign it bounds of [0, 1e-3]\n",
    "\n",
    "Below is a copy of some of the above statements. Modify the parameters as described above and run the rest of the code.  Note that we also need to change the cell model, the cell evaluator and the arguments in the run function to make it work with new parameters.\n",
    "\n",
    "If you completed the exercises successfully, you will obtain a dictionary containg the scores of the model."
   ]
  },
  {
   "cell_type": "code",
   "execution_count": null,
   "metadata": {
    "collapsed": true
   },
   "outputs": [],
   "source": [
    "# Sodium conductance\n",
    "gna_par = ephys.parameters.NrnSectionParameter(                                    \n",
    "        name='gna_soma',\n",
    "        param_name='gnabar_hh',\n",
    "        locations=[somatic_loc],\n",
    "        bounds=[0, 1], # S/cm^2\n",
    "        frozen=False) \n",
    "\n",
    "# Potassium conductance\n",
    "gk_par = ephys.parameters.NrnSectionParameter(\n",
    "        name='gk_soma',\n",
    "        param_name='gkbar_hh',\n",
    "        bounds=[0, 1], # S/cm^2\n",
    "        locations=[somatic_loc],\n",
    "        frozen=False)\n",
    "\n",
    "# Leak conductance\n",
    "gl_par = ephys.parameters.NrnSectionParameter(\n",
    "        name='gl_soma',\n",
    "        param_name='gl_hh',\n",
    "        value=0.0003, # S/cm^2\n",
    "        locations=[somatic_loc],\n",
    "        frozen=True)\n",
    "\n",
    "# Membrane capacitance\n",
    "cm = ephys.parameters.NrnSectionParameter(\n",
    "        name='cm',\n",
    "        param_name='cm',\n",
    "        value=1.0, # in microfarad/cm2\n",
    "        locations=[somatic_loc],\n",
    "        frozen=True)\n",
    "\n",
    "simple_cell_ex = ephys.models.CellModel(\n",
    "        name='simple_cell_ex',\n",
    "        morph=morph,\n",
    "        mechs=[hh_mech],\n",
    "        params=[gl_par])\n",
    "\n",
    "cell_evaluator = ephys.evaluators.CellEvaluator(\n",
    "        cell_model = simple_cell_ex,\n",
    "        param_names = ['gl_soma'],\n",
    "        fitness_protocols = {twostep_protocol.name: twostep_protocol},\n",
    "        fitness_calculator = score_calc,\n",
    "        sim = nrn)\n",
    "\n",
    "ex_params = {'gl_soma': 0.0001}\n",
    "\n",
    "# Run the simulation\n",
    "responses = twostep_protocol.run(cell_model=simple_cell_ex, param_values=ex_params, sim=nrn)\n",
    "\n",
    "print \"Scores:\"\n",
    "print cell_evaluator.evaluate_with_dicts(ex_params)"
   ]
  },
  {
   "cell_type": "markdown",
   "metadata": {},
   "source": [
    "### Exercise 2: extract eFeatures from the experimental recordings\n",
    "\n",
    "* Extract the features 'sag_amplitude' and 'time_constant' from the experimental trace *exp_neg_trace*.\n",
    "* Write a *feat_means_ex* dictionary containing the above features for 'neg_step' and 'Spikecount' of 0. For 'pos_step' assign 'Spikecount' of 10 as before.\n",
    "\n",
    "To help you, we have copied below the statements we used previously. Modify the code to extract the desired features and fill in the *feat_means_ex* dictionary.\n",
    "\n",
    "Print out the *feature_mean_ex* dictionary."
   ]
  },
  {
   "cell_type": "code",
   "execution_count": null,
   "metadata": {
    "collapsed": true
   },
   "outputs": [],
   "source": [
    "import efel\n",
    "\n",
    "# Get the time and voltage array from the experimental data\n",
    "time = exp_pos_trace[:,0]\n",
    "voltage = exp_pos_trace[:,1]\n",
    "\n",
    "# Define the trace dictionary for efel. Hint: look at one of the traces above to find the correct\n",
    "# value for 'stim_end'\n",
    "\n",
    "trace = {'T': time, 'V': voltage, 'stim_start': [250], 'stim_end': [450]}\n",
    "\n",
    "# Extract features. Hint: change the names to extract the desired features\n",
    "feature_values_ex = efel.getFeatureValues([trace], ['Spikecount', 'AP_amplitude'])[0]\n",
    "\n",
    "print 'Sag amplitude value: %s mV' % feature_values_ex['sag_amplitude']\n",
    "print 'Membrane time constant: %s ms \\n' % feature_values_ex['time_constant']\n",
    "\n",
    "feat_means_ex = {'neg_step': {'Spikecount': 0, \n",
    "                              'time_constant': 0,\n",
    "                              'sag_amplitude': 0}, 'pos_step': {'Spikecount': 0}}\n",
    "\n",
    "print \"Final feat_mean_ex dictionary:\"\n",
    "print feat_means_ex"
   ]
  },
  {
   "cell_type": "code",
   "execution_count": null,
   "metadata": {
    "collapsed": true
   },
   "outputs": [],
   "source": []
  }
 ],
 "metadata": {
  "kernelspec": {
   "display_name": "Python 3 (ipykernel)",
   "language": "python",
   "name": "python3"
  },
  "language_info": {
   "codemirror_mode": {
    "name": "ipython",
    "version": 3
   },
   "file_extension": ".py",
   "mimetype": "text/x-python",
   "name": "python",
   "nbconvert_exporter": "python",
   "pygments_lexer": "ipython3",
   "version": "3.8.2"
  }
 },
 "nbformat": 4,
 "nbformat_minor": 1
}
